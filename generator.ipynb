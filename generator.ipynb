{
 "cells": [
  {
   "cell_type": "code",
   "execution_count": 1,
   "metadata": {},
   "outputs": [],
   "source": [
    "import pandas as pd\n",
    "import numpy as np"
   ]
  },
  {
   "cell_type": "markdown",
   "metadata": {},
   "source": [
    "## mRNA data"
   ]
  },
  {
   "cell_type": "code",
   "execution_count": 2,
   "metadata": {},
   "outputs": [],
   "source": [
    "mrna_raw=pd.read_csv('TCGA_inter_SNUH_clinical_standardized_combat_quantile_data.csv')"
   ]
  },
  {
   "cell_type": "code",
   "execution_count": 3,
   "metadata": {},
   "outputs": [],
   "source": [
    "mrna_raw=mrna_raw.iloc[:-70,:]"
   ]
  },
  {
   "cell_type": "markdown",
   "metadata": {},
   "source": [
    "## Non-coding RNA"
   ]
  },
  {
   "cell_type": "code",
   "execution_count": 4,
   "metadata": {},
   "outputs": [],
   "source": [
    "lnc_raw=pd.read_csv(\"TCGA_inter_SNUH_clinical_lnc_standardized_combat_quantile_data.csv\")"
   ]
  },
  {
   "cell_type": "code",
   "execution_count": 5,
   "metadata": {},
   "outputs": [],
   "source": [
    "lnc_raw=lnc_raw.iloc[:-70,:]"
   ]
  },
  {
   "cell_type": "markdown",
   "metadata": {},
   "source": [
    "## Survival patients"
   ]
  },
  {
   "cell_type": "code",
   "execution_count": 6,
   "metadata": {},
   "outputs": [],
   "source": [
    "survival_raw=pd.read_csv(\"TCGA_OV_survival_reference.csv\")"
   ]
  },
  {
   "cell_type": "markdown",
   "metadata": {},
   "source": [
    "## Vital status"
   ]
  },
  {
   "cell_type": "code",
   "execution_count": 7,
   "metadata": {},
   "outputs": [],
   "source": [
    "vital_raw=pd.read_csv('balanced_index_230.csv')"
   ]
  },
  {
   "cell_type": "markdown",
   "metadata": {},
   "source": [
    "## Handle N/A"
   ]
  },
  {
   "cell_type": "code",
   "execution_count": 8,
   "metadata": {},
   "outputs": [],
   "source": [
    "mrna_raw=mrna_raw.dropna()\n",
    "lnc_raw=lnc_raw.dropna()\n",
    "survival_raw=survival_raw.dropna()"
   ]
  },
  {
   "cell_type": "code",
   "execution_count": 9,
   "metadata": {},
   "outputs": [],
   "source": [
    "mrna_raw=mrna_raw.drop_duplicates()\n",
    "lnc_raw=lnc_raw.drop_duplicates()"
   ]
  },
  {
   "cell_type": "code",
   "execution_count": 10,
   "metadata": {},
   "outputs": [
    {
     "name": "stdout",
     "output_type": "stream",
     "text": [
      "426\n",
      "426\n"
     ]
    }
   ],
   "source": [
    "mrna_patient_idx=mrna_raw.patient.values\n",
    "lnc_patient_idx=lnc_raw.patient.values\n",
    "print(len(mrna_patient_idx))\n",
    "print(len(lnc_patient_idx))"
   ]
  },
  {
   "cell_type": "code",
   "execution_count": 11,
   "metadata": {},
   "outputs": [
    {
     "name": "stdout",
     "output_type": "stream",
     "text": [
      "(426, 22205)\n",
      "(426, 1886)\n",
      "(485, 2)\n"
     ]
    }
   ],
   "source": [
    "print(mrna_raw.shape)\n",
    "print(lnc_raw.shape)\n",
    "print(survival_raw.shape)"
   ]
  },
  {
   "cell_type": "markdown",
   "metadata": {},
   "source": [
    "## Check an existance of lnc data in mrna"
   ]
  },
  {
   "cell_type": "code",
   "execution_count": 12,
   "metadata": {},
   "outputs": [
    {
     "data": {
      "text/plain": [
       "(426, 22205)"
      ]
     },
     "execution_count": 12,
     "metadata": {},
     "output_type": "execute_result"
    }
   ],
   "source": [
    "mrna_raw.loc[mrna_raw.patient.isin(lnc_patient_idx)].shape"
   ]
  },
  {
   "cell_type": "markdown",
   "metadata": {},
   "source": [
    "## Extract existed idx from survival raw data"
   ]
  },
  {
   "cell_type": "code",
   "execution_count": 13,
   "metadata": {},
   "outputs": [],
   "source": [
    "existed_survival=survival_raw.loc[survival_raw.patient.isin(lnc_patient_idx),:]"
   ]
  },
  {
   "cell_type": "code",
   "execution_count": 14,
   "metadata": {},
   "outputs": [
    {
     "data": {
      "text/plain": [
       "408"
      ]
     },
     "execution_count": 14,
     "metadata": {},
     "output_type": "execute_result"
    }
   ],
   "source": [
    "len(existed_survival)"
   ]
  },
  {
   "cell_type": "code",
   "execution_count": 15,
   "metadata": {},
   "outputs": [],
   "source": [
    "mrna_col=mrna_raw.columns.values\n",
    "lnc_col=lnc_raw.columns.values\n"
   ]
  },
  {
   "cell_type": "code",
   "execution_count": 16,
   "metadata": {},
   "outputs": [],
   "source": [
    "#Remove 'Patients' columns in lnc_col\n",
    "lnc_col=lnc_col[1:]"
   ]
  },
  {
   "cell_type": "code",
   "execution_count": 17,
   "metadata": {},
   "outputs": [],
   "source": [
    "intersection_col=[]\n",
    "for i in mrna_col:\n",
    "    if i in lnc_col:\n",
    "        intersection_col.append(i)"
   ]
  },
  {
   "cell_type": "code",
   "execution_count": 18,
   "metadata": {},
   "outputs": [],
   "source": [
    "#Delete overlapped columns in mrna data\n",
    "del_inter_mrna_raw=mrna_raw.drop(columns=intersection_col)"
   ]
  },
  {
   "cell_type": "code",
   "execution_count": 19,
   "metadata": {},
   "outputs": [],
   "source": [
    "test_mrna=del_inter_mrna_raw.loc[del_inter_mrna_raw.patient.isin(existed_survival.patient.values),:]\n",
    "test_lnc=lnc_raw.loc[lnc_raw.patient.isin(existed_survival.patient.values),:]"
   ]
  },
  {
   "cell_type": "code",
   "execution_count": 20,
   "metadata": {},
   "outputs": [
    {
     "name": "stdout",
     "output_type": "stream",
     "text": [
      "426\n",
      "426\n",
      "413\n",
      "413\n"
     ]
    }
   ],
   "source": [
    "print(len(del_inter_mrna_raw))\n",
    "print(len(lnc_raw))\n",
    "print(len(test_mrna))\n",
    "print(len(test_lnc))"
   ]
  },
  {
   "cell_type": "code",
   "execution_count": 21,
   "metadata": {},
   "outputs": [],
   "source": [
    "## Delete duplicated patients id"
   ]
  },
  {
   "cell_type": "markdown",
   "metadata": {},
   "source": [
    "## Delete duplicated patients id"
   ]
  },
  {
   "cell_type": "code",
   "execution_count": 22,
   "metadata": {},
   "outputs": [],
   "source": [
    "del_inter_mrna_raw=del_inter_mrna_raw.drop_duplicates(subset='patient')\n",
    "lnc_raw=lnc_raw.drop_duplicates(subset='patient')\n",
    "test_lnc=test_lnc.drop_duplicates(subset='patient')\n",
    "test_mrna=test_mrna.drop_duplicates(subset='patient')"
   ]
  },
  {
   "cell_type": "code",
   "execution_count": 23,
   "metadata": {},
   "outputs": [],
   "source": [
    "lnc_data=pd.merge(test_lnc,existed_survival,on=['patient'])"
   ]
  },
  {
   "cell_type": "code",
   "execution_count": 24,
   "metadata": {},
   "outputs": [],
   "source": [
    "mrna_data=pd.merge(test_mrna,existed_survival,on=['patient'])"
   ]
  },
  {
   "cell_type": "raw",
   "metadata": {},
   "source": [
    "#find row of containing null value\n",
    "tmp[tmp.isnull().any(axis=1)]"
   ]
  },
  {
   "cell_type": "markdown",
   "metadata": {},
   "source": [
    "# Model Class"
   ]
  },
  {
   "cell_type": "code",
   "execution_count": 25,
   "metadata": {},
   "outputs": [],
   "source": [
    "import torch\n",
    "import torch.nn as nn\n",
    "import torch.nn.functional as F\n",
    "from torch.autograd import Variable\n",
    "from torch import optim\n",
    "\n",
    "from itertools import *\n",
    "from tqdm import tqdm"
   ]
  },
  {
   "cell_type": "markdown",
   "metadata": {},
   "source": [
    "## Highway net"
   ]
  },
  {
   "cell_type": "code",
   "execution_count": 26,
   "metadata": {},
   "outputs": [],
   "source": [
    "class Highway(nn.Module):\n",
    "    def __init__(self,size,num_layers,f):\n",
    "        super().__init__()\n",
    "        self.num_layers=num_layers\n",
    "        self.nonlinear=nn.ModuleList([nn.Linear(size,size) for _ in range(num_layers)])\n",
    "        self.linear=nn.ModuleList([nn.Linear(size,size) for _ in range(num_layers)])\n",
    "        self.gate=nn.ModuleList([nn.Linear(size,size) for _ in range(num_layers)])\n",
    "        self.f=f\n",
    "    def forward(self,x):\n",
    "        for layer in range(self.num_layers):\n",
    "            gate=F.sigmoid(self.gate[layer](x))\n",
    "            nonlinear=self.f(self.nonlinear[layer](x))\n",
    "            linear=self.linear[layer](x)\n",
    "            x=gate*nonlinear+(1-gate)*linear\n",
    "        return x\n",
    "                       "
   ]
  },
  {
   "cell_type": "markdown",
   "metadata": {},
   "source": [
    "## Similarity loss"
   ]
  },
  {
   "cell_type": "code",
   "execution_count": 27,
   "metadata": {},
   "outputs": [],
   "source": [
    "def Similarity_loss(modalities):\n",
    "    mode_rna=modalities['rna'].detach()\n",
    "    #print(f'mode_rna:{mode_rna.shape}')\n",
    "    #print(mode_rna[0,:])\n",
    "    mode_lnc=modalities['lnc'].detach()\n",
    "    #print(f'mode_lnc:{mode_lnc.shape}')\n",
    "    cos=nn.CosineSimilarity(dim=1,eps=1e-6)\n",
    "    M=0.1\n",
    "    N=mode_rna.shape[0]\n",
    "    loss=[]\n",
    "    #sim(x,x) output=distance of num of samples\n",
    "    sim_same=cos(mode_rna,mode_lnc)\n",
    "    avg_sim_same=torch.sum(sim_same)/N\n",
    "    tmp=torch.clone(mode_lnc[0,:])\n",
    "    mode_lnc[0:-1,:]=mode_lnc[1:,:]\n",
    "    mode_lnc[-1,:]=tmp\n",
    "    #print(mode_rna.shape[0]-1)\n",
    "    for i in range(mode_rna.shape[0]-1):\n",
    "        #sim(x,y) output=distance of num of samples\n",
    "        sim_diff=cos(mode_rna,mode_lnc)\n",
    "        #print(f'sim diff :{sim_diff}')\n",
    "        avg_sim_diff=torch.sum(sim_diff)/N\n",
    "        #L_theta(x,y)=max(M-sim(x,y)+sim(x,x))\n",
    "        L_theta_x_y=max(0,M-avg_sim_diff+avg_sim_same)\n",
    "        loss.append(L_theta_x_y)\n",
    "        #print(L_theta_x_y)\n",
    "        #shift y data\n",
    "        tmp=torch.clone(mode_lnc[0,:])\n",
    "        mode_lnc[0:-1,:]=mode_lnc[1:,:]\n",
    "        mode_lnc[-1,:]=tmp\n",
    "    total_loss=sum(loss)/len(loss)\n",
    "    return total_loss\n",
    "        \n",
    "        \n",
    "    "
   ]
  },
  {
   "cell_type": "markdown",
   "metadata": {},
   "source": [
    "## Train Network"
   ]
  },
  {
   "cell_type": "code",
   "execution_count": 677,
   "metadata": {},
   "outputs": [],
   "source": [
    "class MultiNet(nn.Module):\n",
    "    \n",
    "    def __init__(self):\n",
    "        super().__init__()\n",
    "        self.fcm=nn.Linear(20319,256)\n",
    "        self.fcl=nn.Linear(1885,256)\n",
    "        self.highway=Highway(256,10,f=F.relu)\n",
    "        self.fc2=nn.Linear(512,2)\n",
    "        self.fcd=nn.Linear(512,1)\n",
    "        self.bn1=nn.BatchNorm1d(256)\n",
    "        self.bn2=nn.BatchNorm1d(256)\n",
    "        self.bn3=nn.BatchNorm1d(1)\n",
    "    \n",
    "    def forward(self,data):\n",
    "        rna=data['mRNA']\n",
    "        x=rna.cuda()\n",
    "        #print(x)\n",
    "        x=x.view(x.shape[0],-1)\n",
    "        x=F.dropout(x,0.4)\n",
    "        x=F.tanh(self.fcm(x))\n",
    "        x=self.bn1(x)\n",
    "        x=F.dropout(x,0.5,training=self.training)\n",
    "        x=self.highway(x)\n",
    "        x=self.bn2(x)\n",
    "        \n",
    "        lnc=data['lnc']\n",
    "        y=lnc.cuda()\n",
    "        #print(y)\n",
    "        y=y.view(y.shape[0],-1)        \n",
    "        y=F.dropout(y,0.4)\n",
    "        y=F.tanh(self.fcl(y))\n",
    "        y=self.bn1(y)\n",
    "        y=F.dropout(y,0.5,training=self.training)\n",
    "        y=self.highway(y)\n",
    "        y=self.bn2(y)\n",
    "        \n",
    "        modal_x=x.clone()\n",
    "        modal_y=y.clone()\n",
    "        modal={'rna':modal_x,'lnc':modal_y}\n",
    "        #similarity loss\n",
    "        #sim_loss=Similarity_loss(modal)\n",
    "        #print(sim_loss.requires_grad)\n",
    "        #concatenates x and y\n",
    "        concat_x_y=torch.cat((x,y),1)\n",
    "        \n",
    "        #vital status\n",
    "        #score=F.log_softmax(self.fc2(concat_x_y),dim=1)\n",
    "        #survival\n",
    "        hazard=self.fcd(concat_x_y)\n",
    "        \n",
    "        #print(f'hazard:{hazard}type:{hazard.requires_grad}')\n",
    "        return {'hazard':hazard,'modal':modal}\n",
    "    def loss(self,pred,target):\n",
    "        modal=pred['modal']\n",
    "        loss1=Similarity_loss(modal)\n",
    "        \n",
    "        days_to_death=target.cuda()\n",
    "        hazard=pred['hazard'].squeeze()\n",
    "        \n",
    "        _,idx=torch.sort(days_to_death)\n",
    "        hazard_probs=F.softmax(hazard[idx].squeeze())\n",
    "        hazard_cum=torch.stack([torch.tensor(0.0).cuda()]+list(accumulate(hazard_probs)))\n",
    "        N=hazard_probs.shape[0]\n",
    "        weights_cum=torch.range(1,N)\n",
    "        p,q=hazard_cum[1:],1-hazard_cum[:-1]        \n",
    "        w1,w2=weights_cum,N-weights_cum\n",
    "        probs=torch.stack([p,q],dim=1)\n",
    "        \n",
    "        logits=torch.log(probs)\n",
    "        \n",
    "        #print(zeros)\n",
    "        #print(logits)\n",
    "        w1=w1.cuda()\n",
    "        w2=w2.cuda()\n",
    "        w1.requires_grad=False\n",
    "        w2.requires_grad=False\n",
    "        \n",
    "        #print(w1)\n",
    "        #print(N)\n",
    "        #ll1 = (F.nll_loss(logits, torch.zeros(N,dtype=torch.long,device=device), reduce=False) * w1)/N\n",
    "        ll1 = F.nll_loss(logits, torch.zeros(N,dtype=torch.long,device=device), reduce=False)\n",
    "        ll1=(ll1*w1)/N\n",
    "        ll2 = F.nll_loss(logits, torch.ones(N,dtype=torch.long,device=device), reduce=False)\n",
    "        ll2=(ll2*w2)/N\n",
    "        #ll2 = (F.nll_loss(logits, torch.ones(N).long(), reduce=False) * w2)/N\n",
    "        loss2 = torch.mean(ll1 + ll2)\n",
    "        \n",
    "        \n",
    "        #loss1=pred['sim_loss']\n",
    "        #print(f'sim loss:{loss1} cox loss: {loss2} tot loss:{loss1+loss2}')\n",
    "        return loss1+loss2\n",
    "\n",
    "        \n",
    "        "
   ]
  },
  {
   "cell_type": "markdown",
   "metadata": {},
   "source": [
    "## Train/Test split 98/2 ratio"
   ]
  },
  {
   "cell_type": "code",
   "execution_count": 666,
   "metadata": {},
   "outputs": [],
   "source": [
    "from sklearn.model_selection import train_test_split"
   ]
  },
  {
   "cell_type": "code",
   "execution_count": 667,
   "metadata": {},
   "outputs": [],
   "source": [
    "mrna_train,mrna_test=train_test_split(mrna_data,test_size=0.02,random_state=777)\n",
    "lnc_train,lnc_test=train_test_split(lnc_data,test_size=0.02,random_state=777)"
   ]
  },
  {
   "cell_type": "code",
   "execution_count": 668,
   "metadata": {},
   "outputs": [
    {
     "name": "stdout",
     "output_type": "stream",
     "text": [
      "<class 'pandas.core.frame.DataFrame'>\n",
      "(399, 20321)\n",
      "(9, 1887)\n"
     ]
    }
   ],
   "source": [
    "print(type(mrna_train))\n",
    "print(mrna_train.shape)\n",
    "print(lnc_test.shape)"
   ]
  },
  {
   "cell_type": "code",
   "execution_count": 669,
   "metadata": {},
   "outputs": [],
   "source": [
    "whole_data={'mRNA':mrna_train.iloc[:,1:].to_numpy(),'lnc':lnc_train.iloc[:,1:].to_numpy()}"
   ]
  },
  {
   "cell_type": "markdown",
   "metadata": {},
   "source": [
    "## Data Generate"
   ]
  },
  {
   "cell_type": "code",
   "execution_count": 670,
   "metadata": {},
   "outputs": [],
   "source": [
    "from torch.autograd import Variable\n",
    "from torch.utils.data import Dataset,DataLoader"
   ]
  },
  {
   "cell_type": "code",
   "execution_count": 671,
   "metadata": {},
   "outputs": [],
   "source": [
    "class GenerateData(Dataset):\n",
    "    def __init__(self,dataset):\n",
    "        mrna_data=dataset['mRNA']\n",
    "        lnc_data=dataset['lnc']\n",
    "        self.len=mrna_data.shape[0]\n",
    "        self.rna_x=torch.from_numpy(mrna_data[:,0:-1]).float()\n",
    "        self.rna_y=torch.from_numpy(mrna_data[:,-1]).float()\n",
    "        self.lnc_x=torch.from_numpy(lnc_data[:,0:-1]).float()\n",
    "        self.lnc_y=torch.from_numpy(lnc_data[:,-1]).float()\n",
    "        \n",
    "    def __getitem__(self,index):\n",
    "        data={'mRNA':self.rna_x[index],'lnc':self.lnc_x[index],'mRNA_y':self.rna_y[index],'lnc_y':self.lnc_y[index]}\n",
    "        return data\n",
    "    \n",
    "    def __len__(self):\n",
    "        return self.len\n",
    "    "
   ]
  },
  {
   "cell_type": "code",
   "execution_count": 672,
   "metadata": {},
   "outputs": [],
   "source": [
    "dataset=GenerateData(whole_data)\n",
    "train_loader=DataLoader(dataset=dataset,batch_size=16,shuffle=False,num_workers=2)"
   ]
  },
  {
   "cell_type": "markdown",
   "metadata": {},
   "source": [
    "## Main"
   ]
  },
  {
   "cell_type": "code",
   "execution_count": 678,
   "metadata": {},
   "outputs": [],
   "source": [
    "from tqdm import tqdm"
   ]
  },
  {
   "cell_type": "code",
   "execution_count": 673,
   "metadata": {},
   "outputs": [],
   "source": [
    "use_cuda = torch.cuda.is_available()\n",
    "device = torch.device('cuda' if use_cuda else 'cpu')"
   ]
  },
  {
   "cell_type": "code",
   "execution_count": 674,
   "metadata": {},
   "outputs": [
    {
     "data": {
      "text/plain": [
       "device(type='cuda')"
      ]
     },
     "execution_count": 674,
     "metadata": {},
     "output_type": "execute_result"
    }
   ],
   "source": [
    "use_cuda\n",
    "device"
   ]
  },
  {
   "cell_type": "code",
   "execution_count": 681,
   "metadata": {},
   "outputs": [],
   "source": [
    "learning_rate=1e-5\n",
    "optimizer=optim.Adam(model.parameters(),lr=learning_rate)"
   ]
  },
  {
   "cell_type": "code",
   "execution_count": 682,
   "metadata": {},
   "outputs": [
    {
     "name": "stderr",
     "output_type": "stream",
     "text": [
      "\n",
      "\n",
      "\n",
      "  0%|          | 0/100 [00:00<?, ?it/s]\u001b[A\u001b[A\u001b[A/home/learnmore/anaconda3/envs/pytorch/lib/python3.6/site-packages/ipykernel_launcher.py:61: UserWarning: Implicit dimension choice for softmax has been deprecated. Change the call to include dim=X as an argument.\n",
      "/home/learnmore/anaconda3/envs/pytorch/lib/python3.6/site-packages/ipykernel_launcher.py:64: UserWarning: torch.range is deprecated in favor of torch.arange and will be removed in 0.5. Note that arange generates values in [start; end), not [start; end].\n",
      "\n",
      "\n",
      "\n",
      "  1%|          | 1/100 [00:05<09:30,  5.76s/it]\u001b[A\u001b[A\u001b[A"
     ]
    },
    {
     "name": "stdout",
     "output_type": "stream",
     "text": [
      "# of epoch :0 tot loss:0.5536885857582092\n"
     ]
    },
    {
     "name": "stderr",
     "output_type": "stream",
     "text": [
      "\n",
      "\n",
      "\n",
      "  2%|▏         | 2/100 [00:11<09:26,  5.78s/it]\u001b[A\u001b[A\u001b[A"
     ]
    },
    {
     "name": "stdout",
     "output_type": "stream",
     "text": [
      "# of epoch :1 tot loss:0.4668825566768646\n"
     ]
    },
    {
     "name": "stderr",
     "output_type": "stream",
     "text": [
      "\n",
      "\n",
      "\n",
      "  3%|▎         | 3/100 [00:17<09:17,  5.74s/it]\u001b[A\u001b[A\u001b[A"
     ]
    },
    {
     "name": "stdout",
     "output_type": "stream",
     "text": [
      "# of epoch :2 tot loss:0.47857627272605896\n"
     ]
    },
    {
     "name": "stderr",
     "output_type": "stream",
     "text": [
      "\n",
      "\n",
      "\n",
      "  4%|▍         | 4/100 [00:22<09:10,  5.73s/it]\u001b[A\u001b[A\u001b[A"
     ]
    },
    {
     "name": "stdout",
     "output_type": "stream",
     "text": [
      "# of epoch :3 tot loss:0.5851966738700867\n"
     ]
    },
    {
     "name": "stderr",
     "output_type": "stream",
     "text": [
      "\n",
      "\n",
      "\n",
      "  5%|▌         | 5/100 [00:28<09:02,  5.71s/it]\u001b[A\u001b[A\u001b[A"
     ]
    },
    {
     "name": "stdout",
     "output_type": "stream",
     "text": [
      "# of epoch :4 tot loss:0.5900180339813232\n"
     ]
    },
    {
     "name": "stderr",
     "output_type": "stream",
     "text": [
      "\n",
      "\n",
      "\n",
      "  6%|▌         | 6/100 [00:34<08:56,  5.70s/it]\u001b[A\u001b[A\u001b[A"
     ]
    },
    {
     "name": "stdout",
     "output_type": "stream",
     "text": [
      "# of epoch :5 tot loss:0.5164112448692322\n"
     ]
    },
    {
     "name": "stderr",
     "output_type": "stream",
     "text": [
      "\n",
      "\n",
      "\n",
      "  7%|▋         | 7/100 [00:39<08:48,  5.68s/it]\u001b[A\u001b[A\u001b[A"
     ]
    },
    {
     "name": "stdout",
     "output_type": "stream",
     "text": [
      "# of epoch :6 tot loss:0.5235821604728699\n"
     ]
    },
    {
     "name": "stderr",
     "output_type": "stream",
     "text": [
      "\n",
      "\n",
      "\n",
      "  8%|▊         | 8/100 [00:45<08:43,  5.70s/it]\u001b[A\u001b[A\u001b[A"
     ]
    },
    {
     "name": "stdout",
     "output_type": "stream",
     "text": [
      "# of epoch :7 tot loss:0.573197066783905\n"
     ]
    },
    {
     "name": "stderr",
     "output_type": "stream",
     "text": [
      "\n",
      "\n",
      "\n",
      "  9%|▉         | 9/100 [00:51<08:36,  5.68s/it]\u001b[A\u001b[A\u001b[A"
     ]
    },
    {
     "name": "stdout",
     "output_type": "stream",
     "text": [
      "# of epoch :8 tot loss:0.6178929805755615\n"
     ]
    },
    {
     "name": "stderr",
     "output_type": "stream",
     "text": [
      "\n",
      "\n",
      "\n",
      " 10%|█         | 10/100 [00:57<08:32,  5.70s/it]\u001b[A\u001b[A\u001b[A"
     ]
    },
    {
     "name": "stdout",
     "output_type": "stream",
     "text": [
      "# of epoch :9 tot loss:0.6058146953582764\n"
     ]
    },
    {
     "name": "stderr",
     "output_type": "stream",
     "text": [
      "\n",
      "\n",
      "\n",
      " 11%|█         | 11/100 [01:02<08:27,  5.70s/it]\u001b[A\u001b[A\u001b[A"
     ]
    },
    {
     "name": "stdout",
     "output_type": "stream",
     "text": [
      "# of epoch :10 tot loss:0.6170494556427002\n"
     ]
    },
    {
     "name": "stderr",
     "output_type": "stream",
     "text": [
      "\n",
      "\n",
      "\n",
      " 12%|█▏        | 12/100 [01:08<08:19,  5.68s/it]\u001b[A\u001b[A\u001b[A"
     ]
    },
    {
     "name": "stdout",
     "output_type": "stream",
     "text": [
      "# of epoch :11 tot loss:0.6494596600532532\n"
     ]
    },
    {
     "name": "stderr",
     "output_type": "stream",
     "text": [
      "\n",
      "\n",
      "\n",
      " 13%|█▎        | 13/100 [01:14<08:19,  5.74s/it]\u001b[A\u001b[A\u001b[A"
     ]
    },
    {
     "name": "stdout",
     "output_type": "stream",
     "text": [
      "# of epoch :12 tot loss:0.5179411768913269\n"
     ]
    },
    {
     "name": "stderr",
     "output_type": "stream",
     "text": [
      "\n",
      "\n",
      "\n",
      " 14%|█▍        | 14/100 [01:20<08:19,  5.80s/it]\u001b[A\u001b[A\u001b[A"
     ]
    },
    {
     "name": "stdout",
     "output_type": "stream",
     "text": [
      "# of epoch :13 tot loss:0.5945671796798706\n"
     ]
    },
    {
     "name": "stderr",
     "output_type": "stream",
     "text": [
      "\n",
      "\n",
      "\n",
      " 15%|█▌        | 15/100 [01:26<08:15,  5.83s/it]\u001b[A\u001b[A\u001b[A"
     ]
    },
    {
     "name": "stdout",
     "output_type": "stream",
     "text": [
      "# of epoch :14 tot loss:0.5620136260986328\n"
     ]
    },
    {
     "name": "stderr",
     "output_type": "stream",
     "text": [
      "\n",
      "\n",
      "\n",
      " 16%|█▌        | 16/100 [01:32<08:12,  5.86s/it]\u001b[A\u001b[A\u001b[A"
     ]
    },
    {
     "name": "stdout",
     "output_type": "stream",
     "text": [
      "# of epoch :15 tot loss:0.5874331593513489\n"
     ]
    },
    {
     "name": "stderr",
     "output_type": "stream",
     "text": [
      "\n",
      "\n",
      "\n",
      " 17%|█▋        | 17/100 [01:37<08:08,  5.89s/it]\u001b[A\u001b[A\u001b[A"
     ]
    },
    {
     "name": "stdout",
     "output_type": "stream",
     "text": [
      "# of epoch :16 tot loss:0.5308243632316589\n"
     ]
    },
    {
     "name": "stderr",
     "output_type": "stream",
     "text": [
      "\n",
      "\n",
      "\n",
      " 18%|█▊        | 18/100 [01:43<08:03,  5.90s/it]\u001b[A\u001b[A\u001b[A"
     ]
    },
    {
     "name": "stdout",
     "output_type": "stream",
     "text": [
      "# of epoch :17 tot loss:0.6510264873504639\n"
     ]
    },
    {
     "name": "stderr",
     "output_type": "stream",
     "text": [
      "\n",
      "\n",
      "\n",
      " 19%|█▉        | 19/100 [01:49<07:56,  5.88s/it]\u001b[A\u001b[A\u001b[A"
     ]
    },
    {
     "name": "stdout",
     "output_type": "stream",
     "text": [
      "# of epoch :18 tot loss:0.6349881291389465\n"
     ]
    },
    {
     "name": "stderr",
     "output_type": "stream",
     "text": [
      "\n",
      "\n",
      "\n",
      " 20%|██        | 20/100 [01:55<07:44,  5.81s/it]\u001b[A\u001b[A\u001b[A"
     ]
    },
    {
     "name": "stdout",
     "output_type": "stream",
     "text": [
      "# of epoch :19 tot loss:0.5162748098373413\n"
     ]
    },
    {
     "name": "stderr",
     "output_type": "stream",
     "text": [
      "\n",
      "\n",
      "\n",
      " 21%|██        | 21/100 [02:01<07:38,  5.81s/it]\u001b[A\u001b[A\u001b[A"
     ]
    },
    {
     "name": "stdout",
     "output_type": "stream",
     "text": [
      "# of epoch :20 tot loss:0.49405187368392944\n"
     ]
    },
    {
     "name": "stderr",
     "output_type": "stream",
     "text": [
      "\n",
      "\n",
      "\n",
      " 22%|██▏       | 22/100 [02:06<07:32,  5.80s/it]\u001b[A\u001b[A\u001b[A"
     ]
    },
    {
     "name": "stdout",
     "output_type": "stream",
     "text": [
      "# of epoch :21 tot loss:0.6489897966384888\n"
     ]
    },
    {
     "name": "stderr",
     "output_type": "stream",
     "text": [
      "\n",
      "\n",
      "\n",
      " 23%|██▎       | 23/100 [02:12<07:25,  5.78s/it]\u001b[A\u001b[A\u001b[A"
     ]
    },
    {
     "name": "stdout",
     "output_type": "stream",
     "text": [
      "# of epoch :22 tot loss:0.5417945981025696\n"
     ]
    },
    {
     "name": "stderr",
     "output_type": "stream",
     "text": [
      "\n",
      "\n",
      "\n",
      " 24%|██▍       | 24/100 [02:18<07:17,  5.76s/it]\u001b[A\u001b[A\u001b[A"
     ]
    },
    {
     "name": "stdout",
     "output_type": "stream",
     "text": [
      "# of epoch :23 tot loss:0.5763205885887146\n"
     ]
    },
    {
     "name": "stderr",
     "output_type": "stream",
     "text": [
      "\n",
      "\n",
      "\n",
      " 25%|██▌       | 25/100 [02:24<07:12,  5.77s/it]\u001b[A\u001b[A\u001b[A"
     ]
    },
    {
     "name": "stdout",
     "output_type": "stream",
     "text": [
      "# of epoch :24 tot loss:0.50163733959198\n"
     ]
    },
    {
     "name": "stderr",
     "output_type": "stream",
     "text": [
      "\n",
      "\n",
      "\n",
      " 26%|██▌       | 26/100 [02:29<07:02,  5.71s/it]\u001b[A\u001b[A\u001b[A"
     ]
    },
    {
     "name": "stdout",
     "output_type": "stream",
     "text": [
      "# of epoch :25 tot loss:0.6051726937294006\n"
     ]
    },
    {
     "name": "stderr",
     "output_type": "stream",
     "text": [
      "\n",
      "\n",
      "\n",
      " 27%|██▋       | 27/100 [02:35<06:57,  5.72s/it]\u001b[A\u001b[A\u001b[A"
     ]
    },
    {
     "name": "stdout",
     "output_type": "stream",
     "text": [
      "# of epoch :26 tot loss:0.570557713508606\n"
     ]
    },
    {
     "name": "stderr",
     "output_type": "stream",
     "text": [
      "\n",
      "\n",
      "\n",
      " 28%|██▊       | 28/100 [02:41<06:52,  5.72s/it]\u001b[A\u001b[A\u001b[A"
     ]
    },
    {
     "name": "stdout",
     "output_type": "stream",
     "text": [
      "# of epoch :27 tot loss:0.5881659388542175\n"
     ]
    },
    {
     "name": "stderr",
     "output_type": "stream",
     "text": [
      "\n",
      "\n",
      "\n",
      " 29%|██▉       | 29/100 [02:46<06:45,  5.72s/it]\u001b[A\u001b[A\u001b[A"
     ]
    },
    {
     "name": "stdout",
     "output_type": "stream",
     "text": [
      "# of epoch :28 tot loss:0.5646957159042358\n"
     ]
    },
    {
     "name": "stderr",
     "output_type": "stream",
     "text": [
      "\n",
      "\n",
      "\n",
      " 30%|███       | 30/100 [02:52<06:41,  5.74s/it]\u001b[A\u001b[A\u001b[A"
     ]
    },
    {
     "name": "stdout",
     "output_type": "stream",
     "text": [
      "# of epoch :29 tot loss:0.45984911918640137\n"
     ]
    },
    {
     "name": "stderr",
     "output_type": "stream",
     "text": [
      "\n",
      "\n",
      "\n",
      " 31%|███       | 31/100 [02:58<06:36,  5.74s/it]\u001b[A\u001b[A\u001b[A"
     ]
    },
    {
     "name": "stdout",
     "output_type": "stream",
     "text": [
      "# of epoch :30 tot loss:0.5468692779541016\n"
     ]
    },
    {
     "name": "stderr",
     "output_type": "stream",
     "text": [
      "\n",
      "\n",
      "\n",
      " 32%|███▏      | 32/100 [03:04<06:29,  5.73s/it]\u001b[A\u001b[A\u001b[A"
     ]
    },
    {
     "name": "stdout",
     "output_type": "stream",
     "text": [
      "# of epoch :31 tot loss:0.5301008820533752\n"
     ]
    },
    {
     "name": "stderr",
     "output_type": "stream",
     "text": [
      "\n",
      "\n",
      "\n",
      " 33%|███▎      | 33/100 [03:09<06:22,  5.71s/it]\u001b[A\u001b[A\u001b[A"
     ]
    },
    {
     "name": "stdout",
     "output_type": "stream",
     "text": [
      "# of epoch :32 tot loss:0.5083196759223938\n"
     ]
    },
    {
     "name": "stderr",
     "output_type": "stream",
     "text": [
      "\n",
      "\n",
      "\n",
      " 34%|███▍      | 34/100 [03:15<06:18,  5.74s/it]\u001b[A\u001b[A\u001b[A"
     ]
    },
    {
     "name": "stdout",
     "output_type": "stream",
     "text": [
      "# of epoch :33 tot loss:0.6315391063690186\n"
     ]
    },
    {
     "name": "stderr",
     "output_type": "stream",
     "text": [
      "\n",
      "\n",
      "\n",
      " 35%|███▌      | 35/100 [03:21<06:15,  5.77s/it]\u001b[A\u001b[A\u001b[A"
     ]
    },
    {
     "name": "stdout",
     "output_type": "stream",
     "text": [
      "# of epoch :34 tot loss:0.5553745031356812\n"
     ]
    },
    {
     "name": "stderr",
     "output_type": "stream",
     "text": [
      "\n",
      "\n",
      "\n",
      " 36%|███▌      | 36/100 [03:27<06:08,  5.76s/it]\u001b[A\u001b[A\u001b[A"
     ]
    },
    {
     "name": "stdout",
     "output_type": "stream",
     "text": [
      "# of epoch :35 tot loss:0.6491348743438721\n"
     ]
    },
    {
     "name": "stderr",
     "output_type": "stream",
     "text": [
      "\n",
      "\n",
      "\n",
      " 37%|███▋      | 37/100 [03:32<06:00,  5.72s/it]\u001b[A\u001b[A\u001b[A"
     ]
    },
    {
     "name": "stdout",
     "output_type": "stream",
     "text": [
      "# of epoch :36 tot loss:0.622761607170105\n"
     ]
    },
    {
     "name": "stderr",
     "output_type": "stream",
     "text": [
      "\n",
      "\n",
      "\n",
      " 38%|███▊      | 38/100 [03:38<05:53,  5.71s/it]\u001b[A\u001b[A\u001b[A"
     ]
    },
    {
     "name": "stdout",
     "output_type": "stream",
     "text": [
      "# of epoch :37 tot loss:0.4823102653026581\n"
     ]
    },
    {
     "name": "stderr",
     "output_type": "stream",
     "text": [
      "\n",
      "\n",
      "\n",
      " 39%|███▉      | 39/100 [03:44<05:47,  5.70s/it]\u001b[A\u001b[A\u001b[A"
     ]
    },
    {
     "name": "stdout",
     "output_type": "stream",
     "text": [
      "# of epoch :38 tot loss:0.5347152948379517\n"
     ]
    },
    {
     "name": "stderr",
     "output_type": "stream",
     "text": [
      "\n",
      "\n",
      "\n",
      " 40%|████      | 40/100 [03:50<05:45,  5.76s/it]\u001b[A\u001b[A\u001b[A"
     ]
    },
    {
     "name": "stdout",
     "output_type": "stream",
     "text": [
      "# of epoch :39 tot loss:0.580610454082489\n"
     ]
    },
    {
     "name": "stderr",
     "output_type": "stream",
     "text": [
      "\n",
      "\n",
      "\n",
      " 41%|████      | 41/100 [03:56<05:41,  5.79s/it]\u001b[A\u001b[A\u001b[A"
     ]
    },
    {
     "name": "stdout",
     "output_type": "stream",
     "text": [
      "# of epoch :40 tot loss:0.598051905632019\n"
     ]
    },
    {
     "name": "stderr",
     "output_type": "stream",
     "text": [
      "\n",
      "\n",
      "\n",
      " 42%|████▏     | 42/100 [04:01<05:38,  5.83s/it]\u001b[A\u001b[A\u001b[A"
     ]
    },
    {
     "name": "stdout",
     "output_type": "stream",
     "text": [
      "# of epoch :41 tot loss:0.5448808073997498\n"
     ]
    },
    {
     "name": "stderr",
     "output_type": "stream",
     "text": [
      "\n",
      "\n",
      "\n",
      " 43%|████▎     | 43/100 [04:07<05:32,  5.84s/it]\u001b[A\u001b[A\u001b[A"
     ]
    },
    {
     "name": "stdout",
     "output_type": "stream",
     "text": [
      "# of epoch :42 tot loss:0.5388686060905457\n"
     ]
    },
    {
     "name": "stderr",
     "output_type": "stream",
     "text": [
      "\n",
      "\n",
      "\n",
      " 44%|████▍     | 44/100 [04:13<05:26,  5.83s/it]\u001b[A\u001b[A\u001b[A"
     ]
    },
    {
     "name": "stdout",
     "output_type": "stream",
     "text": [
      "# of epoch :43 tot loss:0.508815586566925\n"
     ]
    },
    {
     "name": "stderr",
     "output_type": "stream",
     "text": [
      "\n",
      "\n",
      "\n",
      " 45%|████▌     | 45/100 [04:19<05:23,  5.88s/it]\u001b[A\u001b[A\u001b[A"
     ]
    },
    {
     "name": "stdout",
     "output_type": "stream",
     "text": [
      "# of epoch :44 tot loss:0.5954064130783081\n"
     ]
    },
    {
     "name": "stderr",
     "output_type": "stream",
     "text": [
      "\n",
      "\n",
      "\n",
      " 46%|████▌     | 46/100 [04:25<05:18,  5.89s/it]\u001b[A\u001b[A\u001b[A"
     ]
    },
    {
     "name": "stdout",
     "output_type": "stream",
     "text": [
      "# of epoch :45 tot loss:0.5975371599197388\n"
     ]
    },
    {
     "name": "stderr",
     "output_type": "stream",
     "text": [
      "\n",
      "\n",
      "\n",
      " 47%|████▋     | 47/100 [04:31<05:11,  5.88s/it]\u001b[A\u001b[A\u001b[A"
     ]
    },
    {
     "name": "stdout",
     "output_type": "stream",
     "text": [
      "# of epoch :46 tot loss:0.5711615085601807\n"
     ]
    },
    {
     "name": "stderr",
     "output_type": "stream",
     "text": [
      "\n",
      "\n",
      "\n",
      " 48%|████▊     | 48/100 [04:37<05:05,  5.88s/it]\u001b[A\u001b[A\u001b[A"
     ]
    },
    {
     "name": "stdout",
     "output_type": "stream",
     "text": [
      "# of epoch :47 tot loss:0.6123687624931335\n"
     ]
    },
    {
     "name": "stderr",
     "output_type": "stream",
     "text": [
      "\n",
      "\n",
      "\n",
      " 49%|████▉     | 49/100 [04:43<05:01,  5.92s/it]\u001b[A\u001b[A\u001b[A"
     ]
    },
    {
     "name": "stdout",
     "output_type": "stream",
     "text": [
      "# of epoch :48 tot loss:0.5323269367218018\n"
     ]
    },
    {
     "name": "stderr",
     "output_type": "stream",
     "text": [
      "\n",
      "\n",
      "\n",
      " 50%|█████     | 50/100 [04:49<04:55,  5.91s/it]\u001b[A\u001b[A\u001b[A"
     ]
    },
    {
     "name": "stdout",
     "output_type": "stream",
     "text": [
      "# of epoch :49 tot loss:0.5359553694725037\n"
     ]
    },
    {
     "name": "stderr",
     "output_type": "stream",
     "text": [
      "\n",
      "\n",
      "\n",
      " 51%|█████     | 51/100 [04:55<04:49,  5.91s/it]\u001b[A\u001b[A\u001b[A"
     ]
    },
    {
     "name": "stdout",
     "output_type": "stream",
     "text": [
      "# of epoch :50 tot loss:0.4751361906528473\n"
     ]
    },
    {
     "name": "stderr",
     "output_type": "stream",
     "text": [
      "\n",
      "\n",
      "\n",
      " 52%|█████▏    | 52/100 [05:00<04:42,  5.88s/it]\u001b[A\u001b[A\u001b[A"
     ]
    },
    {
     "name": "stdout",
     "output_type": "stream",
     "text": [
      "# of epoch :51 tot loss:0.5684080123901367\n"
     ]
    },
    {
     "name": "stderr",
     "output_type": "stream",
     "text": [
      "\n",
      "\n",
      "\n",
      " 53%|█████▎    | 53/100 [05:06<04:36,  5.88s/it]\u001b[A\u001b[A\u001b[A"
     ]
    },
    {
     "name": "stdout",
     "output_type": "stream",
     "text": [
      "# of epoch :52 tot loss:0.6107295751571655\n"
     ]
    },
    {
     "name": "stderr",
     "output_type": "stream",
     "text": [
      "\n",
      "\n",
      "\n",
      " 54%|█████▍    | 54/100 [05:12<04:31,  5.90s/it]\u001b[A\u001b[A\u001b[A"
     ]
    },
    {
     "name": "stdout",
     "output_type": "stream",
     "text": [
      "# of epoch :53 tot loss:0.5865159630775452\n"
     ]
    },
    {
     "name": "stderr",
     "output_type": "stream",
     "text": [
      "\n",
      "\n",
      "\n",
      " 55%|█████▌    | 55/100 [05:18<04:25,  5.89s/it]\u001b[A\u001b[A\u001b[A"
     ]
    },
    {
     "name": "stdout",
     "output_type": "stream",
     "text": [
      "# of epoch :54 tot loss:0.587846040725708\n"
     ]
    },
    {
     "name": "stderr",
     "output_type": "stream",
     "text": [
      "\n",
      "\n",
      "\n",
      " 56%|█████▌    | 56/100 [05:24<04:18,  5.89s/it]\u001b[A\u001b[A\u001b[A"
     ]
    },
    {
     "name": "stdout",
     "output_type": "stream",
     "text": [
      "# of epoch :55 tot loss:0.5313772559165955\n"
     ]
    },
    {
     "name": "stderr",
     "output_type": "stream",
     "text": [
      "\n",
      "\n",
      "\n",
      " 57%|█████▋    | 57/100 [05:30<04:10,  5.83s/it]\u001b[A\u001b[A\u001b[A"
     ]
    },
    {
     "name": "stdout",
     "output_type": "stream",
     "text": [
      "# of epoch :56 tot loss:0.5038008093833923\n"
     ]
    },
    {
     "name": "stderr",
     "output_type": "stream",
     "text": [
      "\n",
      "\n",
      "\n",
      " 58%|█████▊    | 58/100 [05:35<04:04,  5.81s/it]\u001b[A\u001b[A\u001b[A"
     ]
    },
    {
     "name": "stdout",
     "output_type": "stream",
     "text": [
      "# of epoch :57 tot loss:0.48450782895088196\n"
     ]
    },
    {
     "name": "stderr",
     "output_type": "stream",
     "text": [
      "\n",
      "\n",
      "\n",
      " 59%|█████▉    | 59/100 [05:41<03:55,  5.76s/it]\u001b[A\u001b[A\u001b[A"
     ]
    },
    {
     "name": "stdout",
     "output_type": "stream",
     "text": [
      "# of epoch :58 tot loss:0.5780981183052063\n"
     ]
    },
    {
     "name": "stderr",
     "output_type": "stream",
     "text": [
      "\n",
      "\n",
      "\n",
      " 60%|██████    | 60/100 [05:47<03:49,  5.74s/it]\u001b[A\u001b[A\u001b[A"
     ]
    },
    {
     "name": "stdout",
     "output_type": "stream",
     "text": [
      "# of epoch :59 tot loss:0.5219416618347168\n"
     ]
    },
    {
     "name": "stderr",
     "output_type": "stream",
     "text": [
      "\n",
      "\n",
      "\n",
      " 61%|██████    | 61/100 [05:53<03:45,  5.77s/it]\u001b[A\u001b[A\u001b[A"
     ]
    },
    {
     "name": "stdout",
     "output_type": "stream",
     "text": [
      "# of epoch :60 tot loss:0.5829092860221863\n"
     ]
    },
    {
     "name": "stderr",
     "output_type": "stream",
     "text": [
      "\n",
      "\n",
      "\n",
      " 62%|██████▏   | 62/100 [05:58<03:37,  5.73s/it]\u001b[A\u001b[A\u001b[A"
     ]
    },
    {
     "name": "stdout",
     "output_type": "stream",
     "text": [
      "# of epoch :61 tot loss:0.6335541605949402\n"
     ]
    },
    {
     "name": "stderr",
     "output_type": "stream",
     "text": [
      "\n",
      "\n",
      "\n",
      " 63%|██████▎   | 63/100 [06:04<03:33,  5.77s/it]\u001b[A\u001b[A\u001b[A"
     ]
    },
    {
     "name": "stdout",
     "output_type": "stream",
     "text": [
      "# of epoch :62 tot loss:0.5025615096092224\n"
     ]
    },
    {
     "name": "stderr",
     "output_type": "stream",
     "text": [
      "\n",
      "\n",
      "\n",
      " 64%|██████▍   | 64/100 [06:10<03:27,  5.76s/it]\u001b[A\u001b[A\u001b[A"
     ]
    },
    {
     "name": "stdout",
     "output_type": "stream",
     "text": [
      "# of epoch :63 tot loss:0.5553693175315857\n"
     ]
    },
    {
     "name": "stderr",
     "output_type": "stream",
     "text": [
      "\n",
      "\n",
      "\n",
      " 65%|██████▌   | 65/100 [06:15<03:20,  5.74s/it]\u001b[A\u001b[A\u001b[A"
     ]
    },
    {
     "name": "stdout",
     "output_type": "stream",
     "text": [
      "# of epoch :64 tot loss:0.5337725877761841\n"
     ]
    },
    {
     "name": "stderr",
     "output_type": "stream",
     "text": [
      "\n",
      "\n",
      "\n",
      " 66%|██████▌   | 66/100 [06:21<03:14,  5.73s/it]\u001b[A\u001b[A\u001b[A"
     ]
    },
    {
     "name": "stdout",
     "output_type": "stream",
     "text": [
      "# of epoch :65 tot loss:0.5457082986831665\n"
     ]
    },
    {
     "name": "stderr",
     "output_type": "stream",
     "text": [
      "\n",
      "\n",
      "\n",
      " 67%|██████▋   | 67/100 [06:27<03:08,  5.72s/it]\u001b[A\u001b[A\u001b[A"
     ]
    },
    {
     "name": "stdout",
     "output_type": "stream",
     "text": [
      "# of epoch :66 tot loss:0.6117599010467529\n"
     ]
    },
    {
     "name": "stderr",
     "output_type": "stream",
     "text": [
      "\n",
      "\n",
      "\n",
      " 68%|██████▊   | 68/100 [06:33<03:03,  5.72s/it]\u001b[A\u001b[A\u001b[A"
     ]
    },
    {
     "name": "stdout",
     "output_type": "stream",
     "text": [
      "# of epoch :67 tot loss:0.4937077462673187\n"
     ]
    },
    {
     "name": "stderr",
     "output_type": "stream",
     "text": [
      "\n",
      "\n",
      "\n",
      " 69%|██████▉   | 69/100 [06:38<02:57,  5.73s/it]\u001b[A\u001b[A\u001b[A"
     ]
    },
    {
     "name": "stdout",
     "output_type": "stream",
     "text": [
      "# of epoch :68 tot loss:0.5805814862251282\n"
     ]
    },
    {
     "name": "stderr",
     "output_type": "stream",
     "text": [
      "\n",
      "\n",
      "\n",
      " 70%|███████   | 70/100 [06:44<02:51,  5.73s/it]\u001b[A\u001b[A\u001b[A"
     ]
    },
    {
     "name": "stdout",
     "output_type": "stream",
     "text": [
      "# of epoch :69 tot loss:0.581520676612854\n"
     ]
    },
    {
     "name": "stderr",
     "output_type": "stream",
     "text": [
      "\n",
      "\n",
      "\n",
      " 71%|███████   | 71/100 [06:50<02:47,  5.78s/it]\u001b[A\u001b[A\u001b[A"
     ]
    },
    {
     "name": "stdout",
     "output_type": "stream",
     "text": [
      "# of epoch :70 tot loss:0.6106309294700623\n"
     ]
    },
    {
     "name": "stderr",
     "output_type": "stream",
     "text": [
      "\n",
      "\n",
      "\n",
      " 72%|███████▏  | 72/100 [06:56<02:41,  5.77s/it]\u001b[A\u001b[A\u001b[A"
     ]
    },
    {
     "name": "stdout",
     "output_type": "stream",
     "text": [
      "# of epoch :71 tot loss:0.4508413076400757\n"
     ]
    },
    {
     "name": "stderr",
     "output_type": "stream",
     "text": [
      "\n",
      "\n",
      "\n",
      " 73%|███████▎  | 73/100 [07:01<02:35,  5.74s/it]\u001b[A\u001b[A\u001b[A"
     ]
    },
    {
     "name": "stdout",
     "output_type": "stream",
     "text": [
      "# of epoch :72 tot loss:0.5553771257400513\n"
     ]
    },
    {
     "name": "stderr",
     "output_type": "stream",
     "text": [
      "\n",
      "\n",
      "\n",
      " 74%|███████▍  | 74/100 [07:07<02:28,  5.73s/it]\u001b[A\u001b[A\u001b[A"
     ]
    },
    {
     "name": "stdout",
     "output_type": "stream",
     "text": [
      "# of epoch :73 tot loss:0.4602898955345154\n"
     ]
    },
    {
     "name": "stderr",
     "output_type": "stream",
     "text": [
      "\n",
      "\n",
      "\n",
      " 75%|███████▌  | 75/100 [07:13<02:23,  5.76s/it]\u001b[A\u001b[A\u001b[A"
     ]
    },
    {
     "name": "stdout",
     "output_type": "stream",
     "text": [
      "# of epoch :74 tot loss:0.5904955863952637\n"
     ]
    },
    {
     "name": "stderr",
     "output_type": "stream",
     "text": [
      "\n",
      "\n",
      "\n",
      " 76%|███████▌  | 76/100 [07:19<02:17,  5.74s/it]\u001b[A\u001b[A\u001b[A"
     ]
    },
    {
     "name": "stdout",
     "output_type": "stream",
     "text": [
      "# of epoch :75 tot loss:0.48172053694725037\n"
     ]
    },
    {
     "name": "stderr",
     "output_type": "stream",
     "text": [
      "\n",
      "\n",
      "\n",
      " 77%|███████▋  | 77/100 [07:24<02:11,  5.74s/it]\u001b[A\u001b[A\u001b[A"
     ]
    },
    {
     "name": "stdout",
     "output_type": "stream",
     "text": [
      "# of epoch :76 tot loss:0.5500175952911377\n"
     ]
    },
    {
     "name": "stderr",
     "output_type": "stream",
     "text": [
      "\n",
      "\n",
      "\n",
      " 78%|███████▊  | 78/100 [07:30<02:06,  5.73s/it]\u001b[A\u001b[A\u001b[A"
     ]
    },
    {
     "name": "stdout",
     "output_type": "stream",
     "text": [
      "# of epoch :77 tot loss:0.5170906186103821\n"
     ]
    },
    {
     "name": "stderr",
     "output_type": "stream",
     "text": [
      "\n",
      "\n",
      "\n",
      " 79%|███████▉  | 79/100 [07:36<02:01,  5.77s/it]\u001b[A\u001b[A\u001b[A"
     ]
    },
    {
     "name": "stdout",
     "output_type": "stream",
     "text": [
      "# of epoch :78 tot loss:0.542073130607605\n"
     ]
    },
    {
     "name": "stderr",
     "output_type": "stream",
     "text": [
      "\n",
      "\n",
      "\n",
      " 80%|████████  | 80/100 [07:42<01:54,  5.73s/it]\u001b[A\u001b[A\u001b[A"
     ]
    },
    {
     "name": "stdout",
     "output_type": "stream",
     "text": [
      "# of epoch :79 tot loss:0.5766952037811279\n"
     ]
    },
    {
     "name": "stderr",
     "output_type": "stream",
     "text": [
      "\n",
      "\n",
      "\n",
      " 81%|████████  | 81/100 [07:47<01:48,  5.73s/it]\u001b[A\u001b[A\u001b[A"
     ]
    },
    {
     "name": "stdout",
     "output_type": "stream",
     "text": [
      "# of epoch :80 tot loss:0.552909255027771\n"
     ]
    },
    {
     "name": "stderr",
     "output_type": "stream",
     "text": [
      "\n",
      "\n",
      "\n",
      " 82%|████████▏ | 82/100 [07:53<01:43,  5.73s/it]\u001b[A\u001b[A\u001b[A"
     ]
    },
    {
     "name": "stdout",
     "output_type": "stream",
     "text": [
      "# of epoch :81 tot loss:0.5085840225219727\n"
     ]
    },
    {
     "name": "stderr",
     "output_type": "stream",
     "text": [
      "\n",
      "\n",
      "\n",
      " 83%|████████▎ | 83/100 [07:59<01:37,  5.73s/it]\u001b[A\u001b[A\u001b[A"
     ]
    },
    {
     "name": "stdout",
     "output_type": "stream",
     "text": [
      "# of epoch :82 tot loss:0.5569682717323303\n"
     ]
    },
    {
     "name": "stderr",
     "output_type": "stream",
     "text": [
      "\n",
      "\n",
      "\n",
      " 84%|████████▍ | 84/100 [08:05<01:32,  5.77s/it]\u001b[A\u001b[A\u001b[A"
     ]
    },
    {
     "name": "stdout",
     "output_type": "stream",
     "text": [
      "# of epoch :83 tot loss:0.6466910243034363\n"
     ]
    },
    {
     "name": "stderr",
     "output_type": "stream",
     "text": [
      "\n",
      "\n",
      "\n",
      " 85%|████████▌ | 85/100 [08:10<01:26,  5.76s/it]\u001b[A\u001b[A\u001b[A"
     ]
    },
    {
     "name": "stdout",
     "output_type": "stream",
     "text": [
      "# of epoch :84 tot loss:0.549347996711731\n"
     ]
    },
    {
     "name": "stderr",
     "output_type": "stream",
     "text": [
      "\n",
      "\n",
      "\n",
      " 86%|████████▌ | 86/100 [08:16<01:20,  5.73s/it]\u001b[A\u001b[A\u001b[A"
     ]
    },
    {
     "name": "stdout",
     "output_type": "stream",
     "text": [
      "# of epoch :85 tot loss:0.5483113527297974\n"
     ]
    },
    {
     "name": "stderr",
     "output_type": "stream",
     "text": [
      "\n",
      "\n",
      "\n",
      " 87%|████████▋ | 87/100 [08:22<01:14,  5.72s/it]\u001b[A\u001b[A\u001b[A"
     ]
    },
    {
     "name": "stdout",
     "output_type": "stream",
     "text": [
      "# of epoch :86 tot loss:0.48076942563056946\n"
     ]
    },
    {
     "name": "stderr",
     "output_type": "stream",
     "text": [
      "\n",
      "\n",
      "\n",
      " 88%|████████▊ | 88/100 [08:28<01:08,  5.74s/it]\u001b[A\u001b[A\u001b[A"
     ]
    },
    {
     "name": "stdout",
     "output_type": "stream",
     "text": [
      "# of epoch :87 tot loss:0.6208505034446716\n"
     ]
    },
    {
     "name": "stderr",
     "output_type": "stream",
     "text": [
      "\n",
      "\n",
      "\n",
      " 89%|████████▉ | 89/100 [08:33<01:03,  5.73s/it]\u001b[A\u001b[A\u001b[A"
     ]
    },
    {
     "name": "stdout",
     "output_type": "stream",
     "text": [
      "# of epoch :88 tot loss:0.5201811790466309\n"
     ]
    },
    {
     "name": "stderr",
     "output_type": "stream",
     "text": [
      "\n",
      "\n",
      "\n",
      " 90%|█████████ | 90/100 [08:39<00:56,  5.70s/it]\u001b[A\u001b[A\u001b[A"
     ]
    },
    {
     "name": "stdout",
     "output_type": "stream",
     "text": [
      "# of epoch :89 tot loss:0.5223301649093628\n"
     ]
    },
    {
     "name": "stderr",
     "output_type": "stream",
     "text": [
      "\n",
      "\n",
      "\n",
      " 91%|█████████ | 91/100 [08:45<00:51,  5.71s/it]\u001b[A\u001b[A\u001b[A"
     ]
    },
    {
     "name": "stdout",
     "output_type": "stream",
     "text": [
      "# of epoch :90 tot loss:0.5512722134590149\n"
     ]
    },
    {
     "name": "stderr",
     "output_type": "stream",
     "text": [
      "\n",
      "\n",
      "\n",
      " 92%|█████████▏| 92/100 [08:50<00:45,  5.74s/it]\u001b[A\u001b[A\u001b[A"
     ]
    },
    {
     "name": "stdout",
     "output_type": "stream",
     "text": [
      "# of epoch :91 tot loss:0.5704483985900879\n"
     ]
    },
    {
     "name": "stderr",
     "output_type": "stream",
     "text": [
      "\n",
      "\n",
      "\n",
      " 93%|█████████▎| 93/100 [08:56<00:40,  5.76s/it]\u001b[A\u001b[A\u001b[A"
     ]
    },
    {
     "name": "stdout",
     "output_type": "stream",
     "text": [
      "# of epoch :92 tot loss:0.5493901968002319\n"
     ]
    },
    {
     "name": "stderr",
     "output_type": "stream",
     "text": [
      "\n",
      "\n",
      "\n",
      " 94%|█████████▍| 94/100 [09:02<00:34,  5.78s/it]\u001b[A\u001b[A\u001b[A"
     ]
    },
    {
     "name": "stdout",
     "output_type": "stream",
     "text": [
      "# of epoch :93 tot loss:0.6084209680557251\n"
     ]
    },
    {
     "name": "stderr",
     "output_type": "stream",
     "text": [
      "\n",
      "\n",
      "\n",
      " 95%|█████████▌| 95/100 [09:08<00:28,  5.73s/it]\u001b[A\u001b[A\u001b[A"
     ]
    },
    {
     "name": "stdout",
     "output_type": "stream",
     "text": [
      "# of epoch :94 tot loss:0.49885281920433044\n"
     ]
    },
    {
     "name": "stderr",
     "output_type": "stream",
     "text": [
      "\n",
      "\n",
      "\n",
      " 96%|█████████▌| 96/100 [09:13<00:22,  5.71s/it]\u001b[A\u001b[A\u001b[A"
     ]
    },
    {
     "name": "stdout",
     "output_type": "stream",
     "text": [
      "# of epoch :95 tot loss:0.5320302248001099\n"
     ]
    },
    {
     "name": "stderr",
     "output_type": "stream",
     "text": [
      "\n",
      "\n",
      "\n",
      " 97%|█████████▋| 97/100 [09:19<00:17,  5.71s/it]\u001b[A\u001b[A\u001b[A"
     ]
    },
    {
     "name": "stdout",
     "output_type": "stream",
     "text": [
      "# of epoch :96 tot loss:0.5643812417984009\n"
     ]
    },
    {
     "name": "stderr",
     "output_type": "stream",
     "text": [
      "\n",
      "\n",
      "\n",
      " 98%|█████████▊| 98/100 [09:25<00:11,  5.73s/it]\u001b[A\u001b[A\u001b[A"
     ]
    },
    {
     "name": "stdout",
     "output_type": "stream",
     "text": [
      "# of epoch :97 tot loss:0.564497709274292\n"
     ]
    },
    {
     "name": "stderr",
     "output_type": "stream",
     "text": [
      "\n",
      "\n",
      "\n",
      " 99%|█████████▉| 99/100 [09:31<00:05,  5.72s/it]\u001b[A\u001b[A\u001b[A"
     ]
    },
    {
     "name": "stdout",
     "output_type": "stream",
     "text": [
      "# of epoch :98 tot loss:0.47092753648757935\n"
     ]
    },
    {
     "name": "stderr",
     "output_type": "stream",
     "text": [
      "\n",
      "\n",
      "\n",
      "100%|██████████| 100/100 [09:36<00:00,  5.77s/it]\u001b[A\u001b[A\u001b[A"
     ]
    },
    {
     "name": "stdout",
     "output_type": "stream",
     "text": [
      "# of epoch :99 tot loss:0.5940861701965332\n"
     ]
    },
    {
     "name": "stderr",
     "output_type": "stream",
     "text": [
      "\n"
     ]
    }
   ],
   "source": [
    "#model=MultiNet()\n",
    "#model=model.to(device)\n",
    "model=MultiNet()\n",
    "model=model.cuda()    \n",
    "            \n",
    "for epoch in tqdm(range(100)):    \n",
    "    for i,data in enumerate(train_loader):        \n",
    "        with torch.autograd.set_detect_anomaly(True):\n",
    "            optimizer.zero_grad()\n",
    "            output=model(data)\n",
    "            loss=model.loss(output,data['mRNA_y'])\n",
    "            loss.backward()\n",
    "            optimizer.step()\n",
    "    print(f'# of epoch :{epoch} tot loss:{loss}')"
   ]
  },
  {
   "cell_type": "code",
   "execution_count": null,
   "metadata": {},
   "outputs": [],
   "source": [
    "#Train,Test split 99/1\n",
    "#Generate Instance\n",
    "#Train\n",
    "#Optim_zero_grad\n",
    "#Loss\n",
    "#Backward\n",
    "#Optimizer.step()"
   ]
  },
  {
   "cell_type": "code",
   "execution_count": null,
   "metadata": {},
   "outputs": [],
   "source": []
  },
  {
   "cell_type": "code",
   "execution_count": null,
   "metadata": {},
   "outputs": [],
   "source": []
  },
  {
   "cell_type": "code",
   "execution_count": null,
   "metadata": {},
   "outputs": [],
   "source": []
  },
  {
   "cell_type": "code",
   "execution_count": null,
   "metadata": {},
   "outputs": [],
   "source": []
  },
  {
   "cell_type": "code",
   "execution_count": null,
   "metadata": {},
   "outputs": [],
   "source": []
  },
  {
   "cell_type": "code",
   "execution_count": null,
   "metadata": {},
   "outputs": [],
   "source": []
  },
  {
   "cell_type": "code",
   "execution_count": null,
   "metadata": {},
   "outputs": [],
   "source": []
  }
 ],
 "metadata": {
  "kernelspec": {
   "display_name": "Python 3",
   "language": "python",
   "name": "python3"
  },
  "language_info": {
   "codemirror_mode": {
    "name": "ipython",
    "version": 3
   },
   "file_extension": ".py",
   "mimetype": "text/x-python",
   "name": "python",
   "nbconvert_exporter": "python",
   "pygments_lexer": "ipython3",
   "version": "3.6.9"
  }
 },
 "nbformat": 4,
 "nbformat_minor": 2
}
